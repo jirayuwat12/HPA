{
 "cells": [
  {
   "cell_type": "code",
   "execution_count": 17,
   "metadata": {},
   "outputs": [],
   "source": [
    "import time\n",
    "import numpy as np \n",
    "import pandas as pd\n",
    "\n",
    "import sys\n",
    "import subprocess"
   ]
  },
  {
   "cell_type": "code",
   "execution_count": 18,
   "metadata": {},
   "outputs": [],
   "source": [
    "df = pd.DataFrame(np.zeros((10, 2)),\n",
    "                  columns=['no_vectorization', 'vectorization'])"
   ]
  },
  {
   "cell_type": "code",
   "execution_count": 19,
   "metadata": {},
   "outputs": [
    {
     "name": "stdout",
     "output_type": "stream",
     "text": [
      "#0 Calling nvector.out and vector.out\n",
      "Done!\n",
      "Done!\n",
      "#1 Calling nvector.out and vector.out\n",
      "Done!\n",
      "Done!\n",
      "#2 Calling nvector.out and vector.out\n",
      "Done!\n",
      "Done!\n",
      "#3 Calling nvector.out and vector.out\n",
      "Done!\n",
      "Done!\n",
      "#4 Calling nvector.out and vector.out\n",
      "Done!\n",
      "Done!\n",
      "#5 Calling nvector.out and vector.out\n",
      "Done!\n",
      "Done!\n",
      "#6 Calling nvector.out and vector.out\n",
      "Done!\n",
      "Done!\n",
      "#7 Calling nvector.out and vector.out\n",
      "Done!\n",
      "Done!\n",
      "#8 Calling nvector.out and vector.out\n",
      "Done!\n",
      "Done!\n",
      "#9 Calling nvector.out and vector.out\n",
      "Done!\n",
      "Done!\n"
     ]
    }
   ],
   "source": [
    "# use sys to call nvector.out\n",
    "\n",
    "for i in range(10):\n",
    "    print(\"#{} Calling nvector.out and vector.out\".format(i))\n",
    "    start = time.time()\n",
    "    subprocess.call([\"./nvector.out\"])\n",
    "    end = time.time()\n",
    "    df.iloc[i, 0] = end - start\n",
    "\n",
    "    start = time.time()\n",
    "    subprocess.call([\"./vector.out\"])\n",
    "    end = time.time()\n",
    "    df.iloc[i, 1] = end - start\n"
   ]
  },
  {
   "cell_type": "code",
   "execution_count": 20,
   "metadata": {},
   "outputs": [],
   "source": [
    "df['speedup'] = df['no_vectorization'] / df['vectorization']"
   ]
  },
  {
   "cell_type": "code",
   "execution_count": 21,
   "metadata": {},
   "outputs": [
    {
     "data": {
      "text/html": [
       "<div>\n",
       "<style scoped>\n",
       "    .dataframe tbody tr th:only-of-type {\n",
       "        vertical-align: middle;\n",
       "    }\n",
       "\n",
       "    .dataframe tbody tr th {\n",
       "        vertical-align: top;\n",
       "    }\n",
       "\n",
       "    .dataframe thead th {\n",
       "        text-align: right;\n",
       "    }\n",
       "</style>\n",
       "<table border=\"1\" class=\"dataframe\">\n",
       "  <thead>\n",
       "    <tr style=\"text-align: right;\">\n",
       "      <th></th>\n",
       "      <th>no_vectorization</th>\n",
       "      <th>vectorization</th>\n",
       "      <th>speedup</th>\n",
       "    </tr>\n",
       "  </thead>\n",
       "  <tbody>\n",
       "    <tr>\n",
       "      <th>0</th>\n",
       "      <td>10.099024</td>\n",
       "      <td>0.632322</td>\n",
       "      <td>15.971329</td>\n",
       "    </tr>\n",
       "    <tr>\n",
       "      <th>1</th>\n",
       "      <td>9.757001</td>\n",
       "      <td>0.131403</td>\n",
       "      <td>74.252515</td>\n",
       "    </tr>\n",
       "    <tr>\n",
       "      <th>2</th>\n",
       "      <td>9.706130</td>\n",
       "      <td>0.125429</td>\n",
       "      <td>77.383513</td>\n",
       "    </tr>\n",
       "    <tr>\n",
       "      <th>3</th>\n",
       "      <td>9.582504</td>\n",
       "      <td>0.129014</td>\n",
       "      <td>74.274909</td>\n",
       "    </tr>\n",
       "    <tr>\n",
       "      <th>4</th>\n",
       "      <td>9.492908</td>\n",
       "      <td>0.125996</td>\n",
       "      <td>75.342864</td>\n",
       "    </tr>\n",
       "    <tr>\n",
       "      <th>5</th>\n",
       "      <td>9.515520</td>\n",
       "      <td>0.125680</td>\n",
       "      <td>75.712302</td>\n",
       "    </tr>\n",
       "    <tr>\n",
       "      <th>6</th>\n",
       "      <td>9.460435</td>\n",
       "      <td>0.126629</td>\n",
       "      <td>74.709934</td>\n",
       "    </tr>\n",
       "    <tr>\n",
       "      <th>7</th>\n",
       "      <td>9.459374</td>\n",
       "      <td>0.126135</td>\n",
       "      <td>74.993982</td>\n",
       "    </tr>\n",
       "    <tr>\n",
       "      <th>8</th>\n",
       "      <td>9.466125</td>\n",
       "      <td>0.128203</td>\n",
       "      <td>73.837048</td>\n",
       "    </tr>\n",
       "    <tr>\n",
       "      <th>9</th>\n",
       "      <td>9.457667</td>\n",
       "      <td>0.128145</td>\n",
       "      <td>73.804430</td>\n",
       "    </tr>\n",
       "  </tbody>\n",
       "</table>\n",
       "</div>"
      ],
      "text/plain": [
       "   no_vectorization  vectorization    speedup\n",
       "0         10.099024       0.632322  15.971329\n",
       "1          9.757001       0.131403  74.252515\n",
       "2          9.706130       0.125429  77.383513\n",
       "3          9.582504       0.129014  74.274909\n",
       "4          9.492908       0.125996  75.342864\n",
       "5          9.515520       0.125680  75.712302\n",
       "6          9.460435       0.126629  74.709934\n",
       "7          9.459374       0.126135  74.993982\n",
       "8          9.466125       0.128203  73.837048\n",
       "9          9.457667       0.128145  73.804430"
      ]
     },
     "execution_count": 21,
     "metadata": {},
     "output_type": "execute_result"
    }
   ],
   "source": [
    "df"
   ]
  },
  {
   "cell_type": "code",
   "execution_count": 22,
   "metadata": {},
   "outputs": [],
   "source": [
    "tm_nvector = sum(sorted(list(df['no_vectorization']))[1:-1]) / 8\n",
    "tm_vector = sum(sorted(list(df['vectorization']))[1:-1]) / 8\n",
    "\n",
    "gm_speedup = df['speedup'].prod() ** (1/10)"
   ]
  },
  {
   "cell_type": "code",
   "execution_count": 24,
   "metadata": {},
   "outputs": [
    {
     "name": "stdout",
     "output_type": "stream",
     "text": [
      "Total run : 10 times\n",
      "Trim mean\n",
      "    no vectorization : 9.5550 second\n",
      "    vectorization    : 0.1277 second\n",
      "Geometric mean speedup : 64.1876 times\n"
     ]
    }
   ],
   "source": [
    "print(f'''\n",
    "Total run : 10 times\n",
    "Trim mean\n",
    "    no vectorization : {tm_nvector:.4f} second\n",
    "    vectorization    : {tm_vector:.4f} second\n",
    "Geometric mean speedup : {gm_speedup:.4f} times\n",
    "'''.strip())"
   ]
  },
  {
   "cell_type": "code",
   "execution_count": null,
   "metadata": {},
   "outputs": [],
   "source": []
  }
 ],
 "metadata": {
  "kernelspec": {
   "display_name": "base",
   "language": "python",
   "name": "python3"
  },
  "language_info": {
   "codemirror_mode": {
    "name": "ipython",
    "version": 3
   },
   "file_extension": ".py",
   "mimetype": "text/x-python",
   "name": "python",
   "nbconvert_exporter": "python",
   "pygments_lexer": "ipython3",
   "version": "3.11.5"
  }
 },
 "nbformat": 4,
 "nbformat_minor": 2
}
